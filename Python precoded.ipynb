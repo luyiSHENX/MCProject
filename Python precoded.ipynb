{
 "cells": [
  {
   "cell_type": "code",
   "execution_count": 164,
   "metadata": {},
   "outputs": [],
   "source": [
    "import numpy as np\n",
    "from scipy.stats import norm"
   ]
  },
  {
   "cell_type": "markdown",
   "metadata": {},
   "source": [
    "# Pricing with closed formula"
   ]
  },
  {
   "cell_type": "code",
   "execution_count": 165,
   "metadata": {},
   "outputs": [],
   "source": [
    "def d_p(x,v):\n",
    "    return (np.log(x) + v * v / 2) / v\n",
    "\n",
    "def d_m(x,v):\n",
    "    return (np.log(x) - v * v / 2) / v\n",
    "\n",
    "def libor_price(L_i, K, H, v_i):\n",
    "    return L_i * ( norm.cdf(d_p(L_i / K, v_i)) - norm.cdf(d_p(L_i / H, v_i)) ) - \\\n",
    "            K * ( norm.cdf(d_m(L_i / K, v_i)) - norm.cdf(d_m(L_i / H, v_i)) ) - \\\n",
    "            H * ( norm.cdf(d_p(H * H / K / L_i, v_i)) - norm.cdf(d_p(H / L_i, v_i)) ) + \\\n",
    "            K * L_i / H * ( norm.cdf(d_m(H * H / K / L_i, v_i)) - norm.cdf(d_m(H / L_i, v_i)))"
   ]
  },
  {
   "cell_type": "code",
   "execution_count": 166,
   "metadata": {},
   "outputs": [
    {
     "data": {
      "text/plain": [
       "6.115045933940777"
      ]
     },
     "execution_count": 166,
     "metadata": {},
     "output_type": "execute_result"
    }
   ],
   "source": [
    "d_m(0.13 / 0.001, 3 * 0.25)"
   ]
  },
  {
   "cell_type": "code",
   "execution_count": 167,
   "metadata": {},
   "outputs": [
    {
     "data": {
      "text/plain": [
       "0.06571345192162645"
      ]
     },
     "execution_count": 167,
     "metadata": {},
     "output_type": "execute_result"
    }
   ],
   "source": [
    "libor_price(0.13, 0.01, 0.28, 3 * 0.25)"
   ]
  },
  {
   "cell_type": "markdown",
   "metadata": {},
   "source": [
    "# Derivative calculation\n",
    "\n",
    "We calculate the derivative by formula and we check it with the approximation"
   ]
  },
  {
   "cell_type": "code",
   "execution_count": 168,
   "metadata": {},
   "outputs": [],
   "source": [
    "def d_prime(x,v):\n",
    "    return 1.0 / (x * v)\n",
    "\n",
    "def dF_dL(L_i, K, H, v_i):\n",
    "    val =  norm.cdf(d_p(L_i / K, v_i)) - norm.cdf(d_p(L_i / H, v_i)) + \\\n",
    "            L_i * ( norm.pdf(d_p(L_i / K, v_i)) * d_prime(L_i / K, v_i) / K - \\\n",
    "                   norm.pdf(d_p(L_i / H, v_i)) * d_prime(L_i / H, v_i) / H ) - \\\n",
    "            K * ( norm.pdf(d_m(L_i / K, v_i)) * d_prime(L_i / K, v_i) / K - \\\n",
    "                 norm.pdf(d_m(L_i / H, v_i)) * d_prime(L_i / H, v_i) / H) - \\\n",
    "            H * ( -norm.pdf(d_p(H * H / K / L_i, v_i)) * d_prime(H * H / K / L_i, v_i) * H * H / K / L_i / L_i + \\\n",
    "                        norm.pdf(d_p(H / L_i, v_i)) * H / L_i / L_i ) * d_prime(H / L_i, v_i) + \\\n",
    "            K / H * ( norm.cdf(d_m(H * H / K / L_i, v_i)) - norm.cdf(d_m(H / L_i, v_i)) ) + \\\n",
    "            K * L_i / H * ( -norm.pdf(d_m(H * H / K / L_i, v_i)) * H * H / K / L_i / L_i * d_prime(H * H / K / L_i, v_i) + \\\n",
    "                          norm.pdf(d_m(H / L_i, v_i)) * H / L_i / L_i * d_prime(H / L_i, v_i) )\n",
    "    return val"
   ]
  },
  {
   "cell_type": "code",
   "execution_count": 169,
   "metadata": {},
   "outputs": [
    {
     "data": {
      "text/plain": [
       "-0.08090766447073611"
      ]
     },
     "execution_count": 169,
     "metadata": {},
     "output_type": "execute_result"
    }
   ],
   "source": [
    "dF_dL(0.13, 0.01, 0.28, 3 * 0.25)"
   ]
  },
  {
   "cell_type": "code",
   "execution_count": 170,
   "metadata": {},
   "outputs": [
    {
     "data": {
      "text/plain": [
       "-0.08095125657026081"
      ]
     },
     "execution_count": 170,
     "metadata": {},
     "output_type": "execute_result"
    }
   ],
   "source": [
    "delta = 10e-6\n",
    "(libor_price(0.13 + delta, 0.01, 0.28, 3 * 0.25) - libor_price(0.13, 0.01, 0.28, 3 * 0.25)) / delta "
   ]
  },
  {
   "cell_type": "markdown",
   "metadata": {},
   "source": [
    "# We've got the same values!"
   ]
  },
  {
   "cell_type": "markdown",
   "metadata": {},
   "source": [
    "# Now we make a simulation"
   ]
  },
  {
   "cell_type": "code",
   "execution_count": 173,
   "metadata": {},
   "outputs": [],
   "source": [
    "def bern(p):\n",
    "    if np.random.rand() < p:\n",
    "        return -1.0\n",
    "    else:\n",
    "        return 1.0\n",
    "    \n",
    "def pos_part(x):\n",
    "    if x > 0:\n",
    "        return x\n",
    "    else:\n",
    "        return 0.0\n",
    "    \n",
    "def one_simulation(L_i, K, H, sigma, h,  i = 9):\n",
    "    \n",
    "    M = int(i / h)\n",
    "    k = 0\n",
    "    lnL = np.log(L_i)\n",
    "    Z = 0.0\n",
    "    sqh = np.sqrt(h)\n",
    "    v_i = sigma * np.sqrt(i)\n",
    "    \n",
    "    lnH = np.log(H)\n",
    "    lambda_sqh =  -0.5 * sigma * sigma * h + sigma * sqh\n",
    "    \n",
    "    value_to_check = lnH - lambda_sqh\n",
    "    #print(\"vtc\", value_to_check)\n",
    "    while(k < M):\n",
    "        #print('# ', k)\n",
    "        \n",
    "        if lnL >= value_to_check:\n",
    "            '''\n",
    "            if bern(1 - lambda_sqh / (lnH - lnL + lambda_sqh)) < 0:\n",
    "                #print(\"1\")\n",
    "                lnL = lnL - lambda_sqh\n",
    "            else:\n",
    "                #print(\"2\")\n",
    "                return Z\n",
    "            '''\n",
    "            return Z\n",
    "        \n",
    "        #print(\"!!\")   \n",
    "        eta = bern(0.5)\n",
    "        #print(dF_dL(np.exp(lnL), K, H, v_i))\n",
    "        Z = Z - sigma * dF_dL(np.exp(lnL), K, H, v_i) * sqh * eta\n",
    "        lnL = lnL - 0.5 * sigma * sigma * h + sigma * sqh * eta\n",
    "        k += 1\n",
    "        #print(k * h, lnL, Z)\n",
    "        \n",
    "    #return k == M, lnL, Z\n",
    "\n",
    "    #print(\"3\")\n",
    "    val = pos_part(np.exp(lnL) - K) + Z\n",
    "    #print(val)\n",
    "    \n",
    "    return val\n",
    "\n"
   ]
  },
  {
   "cell_type": "code",
   "execution_count": 175,
   "metadata": {
    "scrolled": true
   },
   "outputs": [
    {
     "name": "stdout",
     "output_type": "stream",
     "text": [
      "100 0.05597028617340327\n",
      "200 0.06298914397277777\n",
      "300 0.06439126365426591\n",
      "400 0.07107580869364616\n",
      "500 0.06186716186251829\n",
      "600 0.0621488402863337\n",
      "700 0.06124915223312292\n",
      "800 0.05617827344948874\n",
      "900 0.05607824331796241\n",
      "0.051529085128700816\n"
     ]
    }
   ],
   "source": [
    "s = 0.0\n",
    "num_sim = 1000\n",
    "for i in range(num_sim):\n",
    "    s += one_simulation(0.13, 0.01, 0.28, 0.25, 0.1,  i = 9)\n",
    "    \n",
    "    if (i > 1 and i % 100 == 0):\n",
    "        print(i, s / i)\n",
    "print(s / num_sim)"
   ]
  },
  {
   "cell_type": "markdown",
   "metadata": {},
   "source": [
    "# We plot the results of c++ simulation"
   ]
  },
  {
   "cell_type": "code",
   "execution_count": 148,
   "metadata": {},
   "outputs": [],
   "source": [
    "import matplotlib.pyplot as plt"
   ]
  },
  {
   "cell_type": "code",
   "execution_count": 162,
   "metadata": {},
   "outputs": [
    {
     "data": {
      "text/plain": [
       "'\\n******ALGORITHM 1********\\nstep: 0.05, result: 0.0657638, duration: 415.728s\\nstep: 0.1, result: 0.0657759, duration: 208.507s\\nstep: 0.125, result: 0.0650573, duration: 166.505s\\nstep: 0.2, result: 0.0662222, duration: 103.779s\\nstep: 0.25, result: 0.066845, duration: 83.054s\\n******ALGORITHM 2********\\nstep: 0.05, result: 0.0639383, duration: 410.521s\\nstep: 0.1, result: 0.0625295, duration: 204.981s\\nstep: 0.125, result: 0.0619019, duration: 163.727s\\nstep: 0.2, result: 0.0624662, duration: 101.681s\\nstep: 0.25, result: 0.0626165, duration: 81.186s\\n'"
      ]
     },
     "execution_count": 162,
     "metadata": {},
     "output_type": "execute_result"
    }
   ],
   "source": [
    "steps = [0.05, 0.1, 0.125, 0.2, 0.25]\n",
    "alg1 = [0.0657638, 0.0657759, 0.0650573, 0.0662222, 0.066845 ]\n",
    "alg2 = [0.0639383, 0.0625295, 0.0619019, 0.0624662, 0.0626165 ]\n",
    "trues = [0.0657134, 0.0657134, 0.0657134, 0.0657134, 0.0657134]\n",
    "\n",
    "plt.plot(steps, alg1,  \"go--\", label = \"alg1\")\n",
    "plt.plot(steps, alg2, \"ro--\", label = \"alg2\")\n",
    "plt.plot(steps, trues, c = \"blue\", label = \"ground_truth\")\n",
    "plt.legend()\n",
    "plt.xlabel(\"h\")\n",
    "plt.ylabel(\"price\")\n",
    "plt.title(\"1000000 simulations\")\n",
    "plt.savefig(\"1000000plot.png\")\n",
    "\n",
    "'''\n",
    "******ALGORITHM 1********\n",
    "step: 0.05, result: 0.0657638, duration: 415.728s\n",
    "step: 0.1, result: 0.0657759, duration: 208.507s\n",
    "step: 0.125, result: 0.0650573, duration: 166.505s\n",
    "step: 0.2, result: 0.0662222, duration: 103.779s\n",
    "step: 0.25, result: 0.066845, duration: 83.054s\n",
    "******ALGORITHM 2********\n",
    "step: 0.05, result: 0.0639383, duration: 410.521s\n",
    "step: 0.1, result: 0.0625295, duration: 204.981s\n",
    "step: 0.125, result: 0.0619019, duration: 163.727s\n",
    "step: 0.2, result: 0.0624662, duration: 101.681s\n",
    "step: 0.25, result: 0.0626165, duration: 81.186s\n",
    "'''"
   ]
  },
  {
   "cell_type": "code",
   "execution_count": null,
   "metadata": {},
   "outputs": [],
   "source": []
  }
 ],
 "metadata": {
  "kernelspec": {
   "display_name": "Python [conda env:condathree]",
   "language": "python",
   "name": "conda-env-condathree-py"
  },
  "language_info": {
   "codemirror_mode": {
    "name": "ipython",
    "version": 3
   },
   "file_extension": ".py",
   "mimetype": "text/x-python",
   "name": "python",
   "nbconvert_exporter": "python",
   "pygments_lexer": "ipython3",
   "version": "3.6.3"
  }
 },
 "nbformat": 4,
 "nbformat_minor": 2
}
